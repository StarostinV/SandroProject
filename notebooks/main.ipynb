{
 "cells": [
  {
   "cell_type": "code",
   "execution_count": null,
   "metadata": {
    "collapsed": true
   },
   "outputs": [],
   "source": [
    "import os\n",
    "import torch\n",
    "\n",
    "from sandro_project import (\n",
    "    Beam,\n",
    "    Agent,\n",
    "    Linear_QNet,\n",
    ")\n",
    "from sandro_project.ml.device import device"
   ]
  },
  {
   "cell_type": "code",
   "execution_count": null,
   "outputs": [],
   "source": [
    "# Properties of Incoming Beam, Sample and Detector:\n",
    "DETECTION_ANGLE = 20\n",
    "\n",
    "# IncomingBeam:\n",
    "inc_length = 2\n",
    "inc_width = 2\n",
    "inc_beam_shape = (\"round\", 0.4, 0.4)\n",
    "inc_intensity = 1\n",
    "gauss = True\n",
    "INC_PROPS = (inc_length, inc_width, inc_beam_shape, inc_intensity, gauss)\n",
    "\n",
    "# Sample:\n",
    "sample_length = 8\n",
    "sample_width = 8\n",
    "sample_thickness = 0\n",
    "SAMPLE_PROPS = (sample_length, sample_width, sample_thickness)\n",
    "\n",
    "# Detector:\n",
    "detector_length = 2\n",
    "detector_width = 2\n",
    "DET_PROPS = (detector_length, detector_width)\n",
    "\n",
    "\"\"\"\n",
    "MOTOR_RANGES: Defines the maximal motor position of each motor in positive as well as in negative direction.\n",
    "\"\"\"\n",
    "\n",
    "CHI_RANGE = 1\n",
    "OMEGA_RANGE = 1\n",
    "X_RANGE = 0.1\n",
    "Y_RANGE = 0.1\n",
    "Z_RANGE = 0.1\n",
    "MOTOR_RANGES = torch.tensor([CHI_RANGE, OMEGA_RANGE, X_RANGE, Y_RANGE, Z_RANGE], device=device)\n",
    "\n",
    "\"\"\"\n",
    "Hyper Parameters:\n",
    "NUM_INPUTS: Number of input positions of the neural network.\n",
    "            Every position consists of 6 states (chi, omega, x, y, z, intensity),\n",
    "            so the overall input size is 6 * NUM_INPUTS.\n",
    "NUM_NETWORKS: Number of networks per generation.\n",
    "SAMPLES_PER_GENERATION: Defines the amount of tests for each network. Every test gives one loss as output.\n",
    "                        All these losses are summed up and are divided by SAMPLES_PER_GENERATION,\n",
    "                        to get an average loss for each network.\n",
    "NUM_BEST_MODELS: Defines the number of networks which are used as parents for the next generation.\n",
    "\"\"\"\n",
    "NUM_INPUTS = 100\n",
    "NUM_NETWORKS = 20\n",
    "SAMPLES_PER_GENERATION = 20\n",
    "NUM_BEST_MODELS = 4\n",
    "\n"
   ],
   "metadata": {
    "collapsed": false,
    "pycharm": {
     "name": "#%%\n"
    }
   }
  },
  {
   "cell_type": "code",
   "execution_count": null,
   "outputs": [],
   "source": [
    "agent = Agent(\n",
    "    INC_PROPS,\n",
    "    SAMPLE_PROPS,\n",
    "    DET_PROPS,\n",
    "    DETECTION_ANGLE,\n",
    "    MOTOR_RANGES,\n",
    "    NUM_NETWORKS,\n",
    "    NUM_INPUTS,\n",
    "    SAMPLES_PER_GENERATION,\n",
    "    NUM_BEST_MODELS,\n",
    "    load=False)\n",
    "\n",
    "counter = 0\n",
    "\n",
    "while True:\n",
    "    start_positions = agent.generate_start_positions()\n",
    "    counter += 1\n",
    "    losses = agent.evaluate_models(start_positions)\n",
    "    agent.generate_new_models(losses)\n",
    "    if counter % 1 == 0:\n",
    "        models_sorted = [x for _, x in sorted(zip(losses, agent.models))]\n",
    "        best_model = models_sorted[0]\n",
    "        best_model.save()\n",
    "        with open(os.path.abspath('') + \"/saves/plot_file.txt\", \"a\") as file:\n",
    "            file.write(str(counter) + \" \" + str(sum(losses) / NUM_NETWORKS) + \"\\n\")\n"
   ],
   "metadata": {
    "collapsed": false,
    "pycharm": {
     "name": "#%%\n"
    }
   }
  }
 ],
 "metadata": {
  "kernelspec": {
   "display_name": "Python 3",
   "language": "python",
   "name": "python3"
  },
  "language_info": {
   "codemirror_mode": {
    "name": "ipython",
    "version": 2
   },
   "file_extension": ".py",
   "mimetype": "text/x-python",
   "name": "python",
   "nbconvert_exporter": "python",
   "pygments_lexer": "ipython2",
   "version": "2.7.6"
  }
 },
 "nbformat": 4,
 "nbformat_minor": 0
}